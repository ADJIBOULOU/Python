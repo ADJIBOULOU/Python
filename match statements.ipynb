{
 "cells": [
  {
   "cell_type": "markdown",
   "metadata": {},
   "source": [
    "# Python 10 - Structural Pattern Matching\n",
    "### match statements  \n",
    "Very similar to switch/case statements in C, Java, and Javascript.  \n",
    "Can be used in lieu of if/elif/else blocks.  \n",
    "[documentation](https://www.python.org/dev/peps/pep-0622/)"
   ]
  },
  {
   "cell_type": "code",
   "execution_count": 1,
   "metadata": {},
   "outputs": [
    {
     "name": "stdout",
     "output_type": "stream",
     "text": [
      "large\n"
     ]
    }
   ],
   "source": [
    "var = 3\n",
    "\n",
    "match var:\n",
    "    case 1:\n",
    "        print('small')\n",
    "    case 2:\n",
    "        print('medium')\n",
    "    case 3:\n",
    "        print('large')"
   ]
  },
  {
   "cell_type": "markdown",
   "metadata": {},
   "source": [
    "#### The Default case _  \n",
    "The default case, using underscore, is optional. "
   ]
  },
  {
   "cell_type": "code",
   "execution_count": 2,
   "metadata": {},
   "outputs": [
    {
     "name": "stdout",
     "output_type": "stream",
     "text": [
      "large\n"
     ]
    }
   ],
   "source": [
    "var = 4\n",
    "\n",
    "match var:\n",
    "    case 1:\n",
    "        print('small')\n",
    "    case 2:\n",
    "        print('medium')\n",
    "    case _:\n",
    "        print('large')"
   ]
  },
  {
   "cell_type": "markdown",
   "metadata": {},
   "source": [
    "#### Conditionals in case  \n",
    "if statements and or (using bar) are supported in case statements."
   ]
  },
  {
   "cell_type": "code",
   "execution_count": 3,
   "metadata": {},
   "outputs": [
    {
     "name": "stdout",
     "output_type": "stream",
     "text": [
      "small\n"
     ]
    }
   ],
   "source": [
    "var = 2\n",
    "\n",
    "match var:\n",
    "    case x if x<=3:\n",
    "        print('small')\n",
    "    case 4 | 5 | 6:\n",
    "        print('medium')\n",
    "    case _:\n",
    "        print('large')"
   ]
  },
  {
   "cell_type": "markdown",
   "metadata": {},
   "source": [
    "#### No breaks needed\n",
    "Note that you do not need break statements. The match block will automatically end execution after one case is executed."
   ]
  },
  {
   "cell_type": "code",
   "execution_count": 4,
   "metadata": {},
   "outputs": [
    {
     "name": "stdout",
     "output_type": "stream",
     "text": [
      "A\n",
      "F\n"
     ]
    }
   ],
   "source": [
    "def print_grade(score):\n",
    "    match score:\n",
    "        # case score > 90      this does not work!\n",
    "        case score if score >= 90:\n",
    "            print('A')\n",
    "        case score if score >= 80:\n",
    "            print('B')\n",
    "        case score if score >= 70:\n",
    "            print('C')\n",
    "        case score if score >= 60:\n",
    "            print('D')\n",
    "        case _:\n",
    "            print('F')\n",
    "            \n",
    "print_grade(94)\n",
    "print_grade(48)"
   ]
  },
  {
   "cell_type": "markdown",
   "metadata": {},
   "source": [
    "#### Python Objects  \n",
    "match statements can also use Python objects and instance variables."
   ]
  },
  {
   "cell_type": "code",
   "execution_count": 5,
   "metadata": {},
   "outputs": [
    {
     "name": "stdout",
     "output_type": "stream",
     "text": [
      "welcome to the business program!\n",
      "welcome to the science program!\n"
     ]
    }
   ],
   "source": [
    "class Student:\n",
    "    def __init__(self, n, i, m):\n",
    "        self.name = n\n",
    "        self.id = i\n",
    "        self.major = m\n",
    "\n",
    "def welcome(student):\n",
    "    match student.major:\n",
    "        case 'engineering':\n",
    "            print('welcome to the engineering program!')\n",
    "        case 'business':\n",
    "            print('welcome to the business program!')\n",
    "        case 'pharmacy':\n",
    "            print('welcome to the pharmacy program!')\n",
    "        case x:\n",
    "            print(f'welcome to the {x} program!')\n",
    "            \n",
    "new_student = Student('Suresh', 5723, 'business')\n",
    "welcome(new_student)\n",
    "\n",
    "new_student = Student('Britney', 5724, 'science')\n",
    "welcome(new_student)"
   ]
  },
  {
   "cell_type": "code",
   "execution_count": null,
   "metadata": {},
   "outputs": [],
   "source": []
  }
 ],
 "metadata": {
  "kernelspec": {
   "display_name": "Python 3 (ipykernel)",
   "language": "python",
   "name": "python3"
  },
  "language_info": {
   "codemirror_mode": {
    "name": "ipython",
    "version": 3
   },
   "file_extension": ".py",
   "mimetype": "text/x-python",
   "name": "python",
   "nbconvert_exporter": "python",
   "pygments_lexer": "ipython3",
   "version": "3.10.0"
  }
 },
 "nbformat": 4,
 "nbformat_minor": 2
}
